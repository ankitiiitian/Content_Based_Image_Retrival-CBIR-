{
  "nbformat": 4,
  "nbformat_minor": 0,
  "metadata": {
    "colab": {
      "name": "Mini_project_ML_CBIR.ipynb",
      "provenance": [],
      "collapsed_sections": []
    },
    "kernelspec": {
      "name": "python3",
      "display_name": "Python 3"
    },
    "language_info": {
      "name": "python"
    }
  },
  "cells": [
    {
      "cell_type": "markdown",
      "metadata": {
        "id": "m7p2_ZPstfla"
      },
      "source": [
        "#Mount Drive "
      ]
    },
    {
      "cell_type": "code",
      "metadata": {
        "id": "nuNmIiGVtiW9",
        "colab": {
          "base_uri": "https://localhost:8080/"
        },
        "outputId": "47f23cfd-db2c-453c-8420-f21fe273752a"
      },
      "source": [
        "from google.colab import drive\n",
        "drive.mount('/content/drive')"
      ],
      "execution_count": 1,
      "outputs": [
        {
          "output_type": "stream",
          "name": "stdout",
          "text": [
            "Mounted at /content/drive\n"
          ]
        }
      ]
    },
    {
      "cell_type": "code",
      "metadata": {
        "id": "2sxbdZEkucpM"
      },
      "source": [
        "from matplotlib import pyplot as plt\n",
        "from sklearn.utils import shuffle\n",
        "from sklearn.linear_model import LogisticRegression\n",
        "from sklearn.model_selection import KFold\n",
        "from sklearn.metrics import confusion_matrix, precision_score, recall_score, f1_score, accuracy_score, classification_report\n",
        "import numpy as np\n",
        "import pandas as pd\n",
        "import os, sys\n",
        "import cv2\n",
        "import re\n",
        "path = \"/content/drive/MyDrive/image.orig\"\n",
        "dirs = os.listdir(path)"
      ],
      "execution_count": 2,
      "outputs": []
    },
    {
      "cell_type": "markdown",
      "metadata": {
        "id": "eS_YBW8mCogX"
      },
      "source": [
        "#Creat Grey-Scaled Histogram of images and Creat Dataset in csv file"
      ]
    },
    {
      "cell_type": "code",
      "metadata": {
        "colab": {
          "base_uri": "https://localhost:8080/"
        },
        "id": "yf3GfsRDCxQp",
        "outputId": "9f02fa84-652e-4b97-b5d1-45caad14c60a"
      },
      "source": [
        "my_list = []\n",
        "for filename in dirs:\n",
        "        img = cv2.imread(os.path.join(path,filename), cv2.COLOR_BGR2RGB)\n",
        "        image = cv2.cvtColor(img, cv2.COLOR_BGR2GRAY)\n",
        "        hist = cv2.calcHist([image], [0], None, [256], [0, 256])\n",
        "        #to normalize data \n",
        "        hist /= hist.sum()\n",
        "        hist = hist.flatten()\n",
        "        my_list.append(hist)\n",
        "data = np.array(my_list)\n",
        "print(data)\n",
        "df = pd.DataFrame(data)\n",
        "df.to_csv('data.csv')"
      ],
      "execution_count": 3,
      "outputs": [
        {
          "output_type": "stream",
          "name": "stdout",
          "text": [
            "[[1.0172526e-05 5.0862629e-05 5.0862629e-05 ... 0.0000000e+00\n",
            "  0.0000000e+00 0.0000000e+00]\n",
            " [8.1380211e-05 8.5449219e-04 1.1189779e-03 ... 0.0000000e+00\n",
            "  0.0000000e+00 0.0000000e+00]\n",
            " [0.0000000e+00 5.0862629e-05 8.1380211e-05 ... 0.0000000e+00\n",
            "  0.0000000e+00 0.0000000e+00]\n",
            " ...\n",
            " [6.1035156e-05 1.5258789e-04 2.9500326e-04 ... 0.0000000e+00\n",
            "  0.0000000e+00 0.0000000e+00]\n",
            " [0.0000000e+00 1.4241536e-04 1.7293294e-04 ... 4.0690105e-05\n",
            "  4.0690105e-05 0.0000000e+00]\n",
            " [0.0000000e+00 0.0000000e+00 0.0000000e+00 ... 1.0172526e-05\n",
            "  3.0517578e-05 0.0000000e+00]]\n"
          ]
        }
      ]
    },
    {
      "cell_type": "markdown",
      "metadata": {
        "id": "e4c_QuxnDMQl"
      },
      "source": [
        "#Upload Created csv file"
      ]
    },
    {
      "cell_type": "code",
      "metadata": {
        "id": "qSy-5DtjDQMi"
      },
      "source": [
        "dataframe = pd.read_csv(\"/content/drive/MyDrive/ankit_data.csv\")"
      ],
      "execution_count": 4,
      "outputs": []
    },
    {
      "cell_type": "code",
      "metadata": {
        "colab": {
          "base_uri": "https://localhost:8080/"
        },
        "id": "Y56CC-v1D7PQ",
        "outputId": "a867c1cc-3a0e-4755-bdf3-aac1ee4217f2"
      },
      "source": [
        "#shape of dataset\n",
        "print(dataframe.shape)"
      ],
      "execution_count": 5,
      "outputs": [
        {
          "output_type": "stream",
          "name": "stdout",
          "text": [
            "(1000, 257)\n"
          ]
        }
      ]
    },
    {
      "cell_type": "code",
      "metadata": {
        "colab": {
          "base_uri": "https://localhost:8080/",
          "height": 161
        },
        "id": "kksR_kefEHQJ",
        "outputId": "d96fa272-87ea-409b-fbe3-e5b7f3297860"
      },
      "source": [
        "'''To know the format of csv'''\n",
        "dataframe.head(2)"
      ],
      "execution_count": 6,
      "outputs": [
        {
          "output_type": "execute_result",
          "data": {
            "text/html": [
              "<div>\n",
              "<style scoped>\n",
              "    .dataframe tbody tr th:only-of-type {\n",
              "        vertical-align: middle;\n",
              "    }\n",
              "\n",
              "    .dataframe tbody tr th {\n",
              "        vertical-align: top;\n",
              "    }\n",
              "\n",
              "    .dataframe thead th {\n",
              "        text-align: right;\n",
              "    }\n",
              "</style>\n",
              "<table border=\"1\" class=\"dataframe\">\n",
              "  <thead>\n",
              "    <tr style=\"text-align: right;\">\n",
              "      <th></th>\n",
              "      <th>Image_name</th>\n",
              "      <th>0</th>\n",
              "      <th>1</th>\n",
              "      <th>2</th>\n",
              "      <th>3</th>\n",
              "      <th>4</th>\n",
              "      <th>5</th>\n",
              "      <th>6</th>\n",
              "      <th>7</th>\n",
              "      <th>8</th>\n",
              "      <th>9</th>\n",
              "      <th>10</th>\n",
              "      <th>11</th>\n",
              "      <th>12</th>\n",
              "      <th>13</th>\n",
              "      <th>14</th>\n",
              "      <th>15</th>\n",
              "      <th>16</th>\n",
              "      <th>17</th>\n",
              "      <th>18</th>\n",
              "      <th>19</th>\n",
              "      <th>20</th>\n",
              "      <th>21</th>\n",
              "      <th>22</th>\n",
              "      <th>23</th>\n",
              "      <th>24</th>\n",
              "      <th>25</th>\n",
              "      <th>26</th>\n",
              "      <th>27</th>\n",
              "      <th>28</th>\n",
              "      <th>29</th>\n",
              "      <th>30</th>\n",
              "      <th>31</th>\n",
              "      <th>32</th>\n",
              "      <th>33</th>\n",
              "      <th>34</th>\n",
              "      <th>35</th>\n",
              "      <th>36</th>\n",
              "      <th>37</th>\n",
              "      <th>38</th>\n",
              "      <th>...</th>\n",
              "      <th>216</th>\n",
              "      <th>217</th>\n",
              "      <th>218</th>\n",
              "      <th>219</th>\n",
              "      <th>220</th>\n",
              "      <th>221</th>\n",
              "      <th>222</th>\n",
              "      <th>223</th>\n",
              "      <th>224</th>\n",
              "      <th>225</th>\n",
              "      <th>226</th>\n",
              "      <th>227</th>\n",
              "      <th>228</th>\n",
              "      <th>229</th>\n",
              "      <th>230</th>\n",
              "      <th>231</th>\n",
              "      <th>232</th>\n",
              "      <th>233</th>\n",
              "      <th>234</th>\n",
              "      <th>235</th>\n",
              "      <th>236</th>\n",
              "      <th>237</th>\n",
              "      <th>238</th>\n",
              "      <th>239</th>\n",
              "      <th>240</th>\n",
              "      <th>241</th>\n",
              "      <th>242</th>\n",
              "      <th>243</th>\n",
              "      <th>244</th>\n",
              "      <th>245</th>\n",
              "      <th>246</th>\n",
              "      <th>247</th>\n",
              "      <th>248</th>\n",
              "      <th>249</th>\n",
              "      <th>250</th>\n",
              "      <th>251</th>\n",
              "      <th>252</th>\n",
              "      <th>253</th>\n",
              "      <th>254</th>\n",
              "      <th>255</th>\n",
              "    </tr>\n",
              "  </thead>\n",
              "  <tbody>\n",
              "    <tr>\n",
              "      <th>0</th>\n",
              "      <td>132.jpg</td>\n",
              "      <td>0.0</td>\n",
              "      <td>0.00001</td>\n",
              "      <td>0.000102</td>\n",
              "      <td>0.000092</td>\n",
              "      <td>0.000244</td>\n",
              "      <td>0.000264</td>\n",
              "      <td>0.000407</td>\n",
              "      <td>0.000356</td>\n",
              "      <td>0.000529</td>\n",
              "      <td>0.000559</td>\n",
              "      <td>0.000641</td>\n",
              "      <td>0.000834</td>\n",
              "      <td>0.001027</td>\n",
              "      <td>0.000946</td>\n",
              "      <td>0.001038</td>\n",
              "      <td>0.000966</td>\n",
              "      <td>0.000875</td>\n",
              "      <td>0.001058</td>\n",
              "      <td>0.000966</td>\n",
              "      <td>0.000987</td>\n",
              "      <td>0.001211</td>\n",
              "      <td>0.001048</td>\n",
              "      <td>0.001343</td>\n",
              "      <td>0.001190</td>\n",
              "      <td>0.001282</td>\n",
              "      <td>0.001221</td>\n",
              "      <td>0.001475</td>\n",
              "      <td>0.001444</td>\n",
              "      <td>0.001211</td>\n",
              "      <td>0.001516</td>\n",
              "      <td>0.001455</td>\n",
              "      <td>0.001465</td>\n",
              "      <td>0.001740</td>\n",
              "      <td>0.001597</td>\n",
              "      <td>0.001923</td>\n",
              "      <td>0.001933</td>\n",
              "      <td>0.001628</td>\n",
              "      <td>0.001801</td>\n",
              "      <td>0.001994</td>\n",
              "      <td>...</td>\n",
              "      <td>0.001383</td>\n",
              "      <td>0.000702</td>\n",
              "      <td>0.000763</td>\n",
              "      <td>0.000509</td>\n",
              "      <td>0.000529</td>\n",
              "      <td>0.000336</td>\n",
              "      <td>0.000397</td>\n",
              "      <td>0.000285</td>\n",
              "      <td>0.000254</td>\n",
              "      <td>0.000224</td>\n",
              "      <td>0.000214</td>\n",
              "      <td>0.000203</td>\n",
              "      <td>0.000153</td>\n",
              "      <td>0.000203</td>\n",
              "      <td>0.000122</td>\n",
              "      <td>0.000122</td>\n",
              "      <td>0.000102</td>\n",
              "      <td>0.000081</td>\n",
              "      <td>0.000041</td>\n",
              "      <td>0.00003</td>\n",
              "      <td>0.000102</td>\n",
              "      <td>0.00001</td>\n",
              "      <td>0.000061</td>\n",
              "      <td>0.00001</td>\n",
              "      <td>0.0</td>\n",
              "      <td>0.0</td>\n",
              "      <td>0.0</td>\n",
              "      <td>0.00001</td>\n",
              "      <td>0.00001</td>\n",
              "      <td>0.0</td>\n",
              "      <td>0.0</td>\n",
              "      <td>0.0</td>\n",
              "      <td>0.0</td>\n",
              "      <td>0.0</td>\n",
              "      <td>0.0</td>\n",
              "      <td>0.0</td>\n",
              "      <td>0.0</td>\n",
              "      <td>0.0</td>\n",
              "      <td>0.0</td>\n",
              "      <td>0.0</td>\n",
              "    </tr>\n",
              "    <tr>\n",
              "      <th>1</th>\n",
              "      <td>158.jpg</td>\n",
              "      <td>0.0</td>\n",
              "      <td>0.00002</td>\n",
              "      <td>0.000010</td>\n",
              "      <td>0.000000</td>\n",
              "      <td>0.000020</td>\n",
              "      <td>0.000020</td>\n",
              "      <td>0.000102</td>\n",
              "      <td>0.000234</td>\n",
              "      <td>0.000254</td>\n",
              "      <td>0.000224</td>\n",
              "      <td>0.000346</td>\n",
              "      <td>0.000549</td>\n",
              "      <td>0.000671</td>\n",
              "      <td>0.000814</td>\n",
              "      <td>0.001322</td>\n",
              "      <td>0.001963</td>\n",
              "      <td>0.002106</td>\n",
              "      <td>0.002431</td>\n",
              "      <td>0.003001</td>\n",
              "      <td>0.003072</td>\n",
              "      <td>0.004008</td>\n",
              "      <td>0.004079</td>\n",
              "      <td>0.004659</td>\n",
              "      <td>0.005066</td>\n",
              "      <td>0.004710</td>\n",
              "      <td>0.005625</td>\n",
              "      <td>0.006134</td>\n",
              "      <td>0.005768</td>\n",
              "      <td>0.006612</td>\n",
              "      <td>0.006449</td>\n",
              "      <td>0.007070</td>\n",
              "      <td>0.007100</td>\n",
              "      <td>0.007263</td>\n",
              "      <td>0.007487</td>\n",
              "      <td>0.007090</td>\n",
              "      <td>0.006673</td>\n",
              "      <td>0.007436</td>\n",
              "      <td>0.006673</td>\n",
              "      <td>0.005890</td>\n",
              "      <td>...</td>\n",
              "      <td>0.000092</td>\n",
              "      <td>0.000051</td>\n",
              "      <td>0.000030</td>\n",
              "      <td>0.000020</td>\n",
              "      <td>0.000030</td>\n",
              "      <td>0.000000</td>\n",
              "      <td>0.000020</td>\n",
              "      <td>0.000010</td>\n",
              "      <td>0.000000</td>\n",
              "      <td>0.000010</td>\n",
              "      <td>0.000010</td>\n",
              "      <td>0.000010</td>\n",
              "      <td>0.000000</td>\n",
              "      <td>0.000000</td>\n",
              "      <td>0.000000</td>\n",
              "      <td>0.000000</td>\n",
              "      <td>0.000000</td>\n",
              "      <td>0.000000</td>\n",
              "      <td>0.000000</td>\n",
              "      <td>0.00000</td>\n",
              "      <td>0.000000</td>\n",
              "      <td>0.00000</td>\n",
              "      <td>0.000000</td>\n",
              "      <td>0.00000</td>\n",
              "      <td>0.0</td>\n",
              "      <td>0.0</td>\n",
              "      <td>0.0</td>\n",
              "      <td>0.00000</td>\n",
              "      <td>0.00000</td>\n",
              "      <td>0.0</td>\n",
              "      <td>0.0</td>\n",
              "      <td>0.0</td>\n",
              "      <td>0.0</td>\n",
              "      <td>0.0</td>\n",
              "      <td>0.0</td>\n",
              "      <td>0.0</td>\n",
              "      <td>0.0</td>\n",
              "      <td>0.0</td>\n",
              "      <td>0.0</td>\n",
              "      <td>0.0</td>\n",
              "    </tr>\n",
              "  </tbody>\n",
              "</table>\n",
              "<p>2 rows × 257 columns</p>\n",
              "</div>"
            ],
            "text/plain": [
              "  Image_name    0        1         2         3  ...  251  252  253  254  255\n",
              "0    132.jpg  0.0  0.00001  0.000102  0.000092  ...  0.0  0.0  0.0  0.0  0.0\n",
              "1    158.jpg  0.0  0.00002  0.000010  0.000000  ...  0.0  0.0  0.0  0.0  0.0\n",
              "\n",
              "[2 rows x 257 columns]"
            ]
          },
          "metadata": {},
          "execution_count": 6
        }
      ]
    },
    {
      "cell_type": "markdown",
      "metadata": {
        "id": "hSsEZdNcEsjh"
      },
      "source": [
        "#To Drop Extra Column of Image_name"
      ]
    },
    {
      "cell_type": "code",
      "metadata": {
        "id": "cb5E9u7LE0jP"
      },
      "source": [
        "name = []\n",
        "name = dataframe['Image_name'] \n",
        "dataframe = dataframe.drop('Image_name', axis = 1)"
      ],
      "execution_count": 7,
      "outputs": []
    },
    {
      "cell_type": "markdown",
      "metadata": {
        "id": "iqyoeLuwFmv1"
      },
      "source": [
        "#Creat RGB Histogram of dataset"
      ]
    },
    {
      "cell_type": "code",
      "metadata": {
        "colab": {
          "base_uri": "https://localhost:8080/"
        },
        "id": "c8U_3gCOGAuO",
        "outputId": "9f7b6887-5600-4ce1-d3b1-47c0242c154f"
      },
      "source": [
        "blue, green, red = [], [], []\n",
        "my_list = []\n",
        "counter = 0 \n",
        "for filename in dirs:\n",
        "  temp = []\n",
        "  counter = counter + 1\n",
        "  img = cv2.imread(os.path.join(path,filename),cv2.COLOR_BGR2RGB)\n",
        "  chans = cv2.split(img)\n",
        "  colors = (\"b\", \"g\", \"r\")\n",
        "  i = 0\n",
        "  # loop over the image channels\n",
        "  for (chan, color) in zip(chans, colors):\n",
        "    # create a histogram for the current channel and plot it\n",
        "    hist = cv2.calcHist([chan], [0], None, [256], [0, 256])\n",
        "    hist /= hist.sum()\n",
        "    hist = hist.flatten()\n",
        "    hist = list(hist)\n",
        "    temp = temp + hist\n",
        "  temp = np.array(temp)\n",
        "  my_list.append(temp)\n",
        "my_list = np.array(my_list)\n",
        "df = pd.DataFrame(my_list)\n",
        "#RGB data in single 1-D so (256*3) column and 1000 pattern(row)\n",
        "print(df)\n",
        "df.to_csv('rgb.csv')"
      ],
      "execution_count": 8,
      "outputs": [
        {
          "output_type": "stream",
          "name": "stdout",
          "text": [
            "          0         1         2    ...       765       766       767\n",
            "0    0.001017  0.000102  0.000122  ...  0.000000  0.000010  0.000000\n",
            "1    0.008942  0.002991  0.003642  ...  0.000010  0.000000  0.000041\n",
            "2    0.001404  0.000295  0.000326  ...  0.000020  0.000031  0.000092\n",
            "3    0.000122  0.000010  0.000081  ...  0.000092  0.000071  0.000336\n",
            "4    0.007558  0.002340  0.002248  ...  0.000000  0.000000  0.000000\n",
            "..        ...       ...       ...  ...       ...       ...       ...\n",
            "995  0.001282  0.000214  0.000285  ...  0.000000  0.000000  0.000010\n",
            "996  0.023865  0.003031  0.003825  ...  0.000621  0.000519  0.003998\n",
            "997  0.034698  0.006388  0.007273  ...  0.000031  0.000020  0.000031\n",
            "998  0.054159  0.008046  0.009094  ...  0.000163  0.000183  0.001027\n",
            "999  0.001770  0.001292  0.001943  ...  0.000000  0.000010  0.000051\n",
            "\n",
            "[1000 rows x 768 columns]\n"
          ]
        }
      ]
    },
    {
      "cell_type": "markdown",
      "metadata": {
        "id": "AYKXsuhMHNG9"
      },
      "source": [
        "#label the data according to class \n",
        "i.e. (0-99) -> [1] class\n"
      ]
    },
    {
      "cell_type": "code",
      "metadata": {
        "id": "0R2L42X_HnSp"
      },
      "source": [
        "''' store in label list'''\n",
        "name = list(name)\n",
        "label = []\n",
        "for i in range(0, len(name)):\n",
        "  temp = list(map(int, re.findall(r'\\d+', name[i])))\n",
        "  label.append(temp)\n",
        "label = np.array(label)\n",
        "label = label.flatten()"
      ],
      "execution_count": 9,
      "outputs": []
    },
    {
      "cell_type": "code",
      "metadata": {
        "id": "S41OeUkVH4ub"
      },
      "source": [
        "\n",
        "for i in range(0, label.shape[0]):\n",
        "  if(label[i]<100):\n",
        "    label[i] = 1\n",
        "  if(label[i]<=199 and label[i]>=100):\n",
        "    label[i] = 2\n",
        "  if(label[i]<=299 and label[i]>=200):\n",
        "    label[i] = 3\n",
        "  if(label[i]<=399 and label[i]>=300):\n",
        "    label[i] = 4\n",
        "  if(label[i]<=499 and label[i]>=400):\n",
        "    label[i] = 5\n",
        "  if(label[i]<=599 and label[i]>=500):\n",
        "    label[i] = 6\n",
        "  if(label[i]<=699 and label[i]>=600):\n",
        "    label[i] = 7\n",
        "  if(label[i]<=799 and label[i]>=700):\n",
        "    label[i] = 8\n",
        "  if(label[i]<=899 and label[i]>=800):\n",
        "    label[i] = 9\n",
        "  if(label[i]<=999 and label[i]>=900):\n",
        "    label[i] = 10"
      ],
      "execution_count": 10,
      "outputs": []
    },
    {
      "cell_type": "markdown",
      "metadata": {
        "id": "N7kNLB16lhNI"
      },
      "source": [
        "#K-Fold for 5 fold"
      ]
    },
    {
      "cell_type": "code",
      "metadata": {
        "id": "4Vhn2U6dlmOZ"
      },
      "source": [
        "X = np.array(df)\n",
        "y = label"
      ],
      "execution_count": 11,
      "outputs": []
    },
    {
      "cell_type": "code",
      "metadata": {
        "id": "8Bdnyt0hnZCJ"
      },
      "source": [
        "X, y = shuffle(X, y, random_state=100)"
      ],
      "execution_count": 12,
      "outputs": []
    },
    {
      "cell_type": "code",
      "metadata": {
        "id": "8Qp39R62nbtf"
      },
      "source": [
        "def fold(features,y_actual):\n",
        "  kf = KFold(n_splits=5,random_state=1000, shuffle=True)\n",
        "  kf.get_n_splits(features)\n",
        "  all_x_train = []\n",
        "  all_x_test = []\n",
        "  all_y_train = []\n",
        "  all_y_test = []\n",
        "  for train_index, test_index in kf.split(features):\n",
        "    X_train, X_test = features[train_index], features[test_index]\n",
        "    y_train, y_test = y_actual[train_index], y_actual[test_index]\n",
        "    all_x_train.append(X_train)\n",
        "    all_x_test.append(X_test)\n",
        "    all_y_train.append(y_train)\n",
        "    all_y_test.append(y_test)\n",
        "  all_x_train, all_x_test, all_y_train, all_y_test  = np.array(all_x_train), np.array(all_x_test), np.array(all_y_train), np.array(all_y_test)\n",
        "  for i in range(0, 5):\n",
        "    all_y_train[i] = all_y_train[i].flatten()\n",
        "  return all_x_train, all_x_test, all_y_train, all_y_test"
      ],
      "execution_count": 13,
      "outputs": []
    },
    {
      "cell_type": "code",
      "metadata": {
        "id": "rZwpj-tWnkxT"
      },
      "source": [
        "all_x_train, all_x_test, all_y_train, all_y_test = fold(X, y)"
      ],
      "execution_count": 14,
      "outputs": []
    },
    {
      "cell_type": "markdown",
      "metadata": {
        "id": "NXhI_yIg0hUN"
      },
      "source": [
        "#Hyperparameter Tuning "
      ]
    },
    {
      "cell_type": "code",
      "metadata": {
        "id": "BptcWtD90om-"
      },
      "source": [
        "\"\"\"\n",
        "Creating the validation set to get the best hyperparameter.training and validation into an 80:20 ratio.\n",
        "\"\"\"\n",
        "from sklearn.linear_model import SGDClassifier        #Import Stocastic Gradient Descent\n",
        "from sklearn.multiclass import OneVsRestClassifier\n",
        "from sklearn.model_selection import train_test_split\n",
        "X_train, X_validation, y_train, y_validation = train_test_split(all_x_train[0], all_y_train[0], test_size=0.20, random_state=42)"
      ],
      "execution_count": 15,
      "outputs": []
    },
    {
      "cell_type": "code",
      "metadata": {
        "id": "bXbt88kJ6ZQE"
      },
      "source": [
        "# hyperparameter tuning for logistic accuracy\n",
        "def logistic_hyperparameter_tuning(epoch, alpha, roh, n_iter_no_change, X_train, X_validation, y_train, y_validation):\n",
        "  val_acc = []\n",
        "  for i in range(0, epoch.shape[0]):\n",
        "    # we are taking logloss function for error calculation\n",
        "    logistic_reg_classifier = OneVsRestClassifier(SGDClassifier(loss = 'log', alpha = alpha[i], fit_intercept = True, max_iter = epoch[i], tol = roh[i], n_iter_no_change = n_iter_no_change[i])).fit(X_train, y_train)\n",
        "    predicted = logistic_reg_classifier.predict(X_validation)\n",
        "    val_acc.append(accuracy_score(y_validation, predicted)*100)\n",
        "  # Get the maximum accuracy on validation\n",
        "  max_value = max(val_acc)\n",
        "  max_index = val_acc.index(max_value)\n",
        "  best_hyperparameter = (epoch[max_index], alpha[max_index], roh[max_index], n_iter_no_change[max_index])\n",
        "  print(\"Best Hyperparameter:\")\n",
        "  print(\"Epoch = \", epoch[max_index])\n",
        "  print(\"Alpha = \", alpha[max_index])\n",
        "  print(\"Roh = \", roh[max_index])\n",
        "  print(\"n_iter_no_change (Number of iterations with no improvement) = \", n_iter_no_change[max_index])\n",
        "  return best_hyperparameter"
      ],
      "execution_count": 16,
      "outputs": []
    },
    {
      "cell_type": "markdown",
      "metadata": {
        "id": "Ui0l3C3jh3wv"
      },
      "source": [
        "**Set parameter for Best Hyperparameter**"
      ]
    },
    {
      "cell_type": "code",
      "metadata": {
        "colab": {
          "base_uri": "https://localhost:8080/"
        },
        "id": "F2bFdfr76vw2",
        "outputId": "58dc78cf-f38a-4b48-cb57-3e912476958e"
      },
      "source": [
        "epoch = np.array([100, 150, 200, 250, 300, 350, 400, 450, 500, 550])\n",
        "alpha = np.array([0.01, 0.001, 0.0001, 0.00001, 0.125, 0.0125, 0.00125, 0.15, 0.25, 0.3])\n",
        "roh = np.array([0.00001, 0.00001, 0.000001, 0.0000001, 0.000001, 0.0001, 0.0001, 0.0001, 0.0001, 0.000001])\n",
        "n_iter_no_change = np.array([8, 9, 10, 11, 12, 13, 14, 15, 16, 18])\n",
        "epoch, alpha, roh, n_iter_no_change = logistic_hyperparameter_tuning(epoch, alpha, roh, n_iter_no_change, X_train, X_validation, y_train, y_validation)"
      ],
      "execution_count": 17,
      "outputs": [
        {
          "output_type": "stream",
          "name": "stdout",
          "text": [
            "Best Hyperparameter:\n",
            "Epoch =  250\n",
            "Alpha =  1e-05\n",
            "Roh =  1e-07\n",
            "n_iter_no_change (Number of iterations with no improvement) =  11\n"
          ]
        }
      ]
    },
    {
      "cell_type": "markdown",
      "metadata": {
        "id": "GqSJxC-TYyLe"
      },
      "source": [
        "#Overfitting checking in Logistic_Regression"
      ]
    },
    {
      "cell_type": "code",
      "metadata": {
        "colab": {
          "base_uri": "https://localhost:8080/"
        },
        "id": "BVVDKgMFY7Jw",
        "outputId": "41ed8f08-5be6-4e45-e2bd-6ba3bbebf13a"
      },
      "source": [
        "logistic_regression = OneVsRestClassifier(SGDClassifier(loss = 'log', alpha = alpha, fit_intercept = True, max_iter = epoch, tol = roh, n_iter_no_change = n_iter_no_change))\n",
        "logistic_regression.fit(X_train, y_train)\n",
        "print(\"Accuracy on training data: \" + str(logistic_regression.score(X_train, y_train)*100) + \"%\")\n",
        "test_predicted = logistic_regression.predict(all_x_test[0])\n",
        "print(\"-\"*100)\n",
        "print(\"Testing Accuracy Score: \" + str(accuracy_score(all_y_test[0], test_predicted)*100))\n",
        "print(\"-\"*100)\n",
        "valid_predicted = logistic_regression.predict(X_validation)\n",
        "print(\"Validation Accuracy Score: \" + str(accuracy_score(y_validation, valid_predicted)*100))\n",
        "print(\"-\"*100)"
      ],
      "execution_count": 18,
      "outputs": [
        {
          "output_type": "stream",
          "name": "stdout",
          "text": [
            "Accuracy on training data: 42.03125%\n",
            "----------------------------------------------------------------------------------------------------\n",
            "Testing Accuracy Score: 34.0\n",
            "----------------------------------------------------------------------------------------------------\n",
            "Validation Accuracy Score: 28.749999999999996\n",
            "----------------------------------------------------------------------------------------------------\n"
          ]
        }
      ]
    },
    {
      "cell_type": "markdown",
      "metadata": {
        "id": "pvB_hcstnnsq"
      },
      "source": [
        "#Logistic Regression K-fold wise"
      ]
    },
    {
      "cell_type": "code",
      "metadata": {
        "colab": {
          "base_uri": "https://localhost:8080/"
        },
        "id": "VLojEjDdnsBK",
        "outputId": "5e65effd-2065-4ea0-98eb-977906d59810"
      },
      "source": [
        "for i in range(0, 5): # for 5 fold\n",
        "  print(\"For fold no:\", i+1)\n",
        "  print(\"-\"*100)\n",
        "  logistic_regression = OneVsRestClassifier(SGDClassifier(loss = 'log', alpha = 0.00001, fit_intercept = True, max_iter = epoch, tol = roh, n_iter_no_change = n_iter_no_change))\n",
        "  logistic_regression.fit(X_train,y_train)\n",
        "  print(\"Accuracy on training data: \" + str(logistic_regression.score(all_x_train[i], all_y_train[i])*100) + \"%\")\n",
        "  predicted = logistic_regression.predict(all_x_test[i])\n",
        "  print(\"Testing Accuracy Score: \" + str(accuracy_score(all_y_test[i], predicted)*100))\n",
        "  valid_predicted = logistic_regression.predict(X_validation)\n",
        "  print(\"Validation Accuracy Score: \" + str(accuracy_score(y_validation, valid_predicted)*100))\n",
        "  print(\"Confusion Matrix : \\n\" + str(confusion_matrix(all_y_test[i], predicted)))\n",
        "  print(\"Classification Report for 10-classes: \")\n",
        "  out_labels = [1, 2, 3, 4, 5, 6, 7, 8, 9, 10]\n",
        "  print(classification_report(all_y_test[i], predicted, out_labels, digits=4))\n",
        "  print(\"-\"*100)"
      ],
      "execution_count": 19,
      "outputs": [
        {
          "output_type": "stream",
          "name": "stdout",
          "text": [
            "For fold no: 1\n",
            "----------------------------------------------------------------------------------------------------\n",
            "Accuracy on training data: 44.5%\n",
            "Testing Accuracy Score: 38.0\n",
            "Validation Accuracy Score: 33.125\n",
            "Confusion Matrix : \n",
            "[[ 2  3  2  0  3  0  1  2  5  1]\n",
            " [ 2 10  0  0  0  0  0  0  3  1]\n",
            " [ 3  0  7  0  0  0  0  1  3 10]\n",
            " [ 3  0  2  1 10  0  0  0  3  1]\n",
            " [ 2  0  1  0  5  0  0  1  1  2]\n",
            " [ 2  0  0  0  7  0  3  4  0  7]\n",
            " [ 0  1  1  0  1  0  8  3  4  8]\n",
            " [ 0  2  1  0  0  0  0 12  0  5]\n",
            " [ 0  1  1  0  0  0  0  0 17  2]\n",
            " [ 2  0  0  0  1  0  0  0  2 14]]\n",
            "Classification Report for 10-classes: \n",
            "              precision    recall  f1-score   support\n",
            "\n",
            "           1     0.1250    0.1053    0.1143        19\n",
            "           2     0.5882    0.6250    0.6061        16\n",
            "           3     0.4667    0.2917    0.3590        24\n",
            "           4     1.0000    0.0500    0.0952        20\n",
            "           5     0.1852    0.4167    0.2564        12\n",
            "           6     0.0000    0.0000    0.0000        23\n",
            "           7     0.6667    0.3077    0.4211        26\n",
            "           8     0.5217    0.6000    0.5581        20\n",
            "           9     0.4474    0.8095    0.5763        21\n",
            "          10     0.2745    0.7368    0.4000        19\n",
            "\n",
            "    accuracy                         0.3800       200\n",
            "   macro avg     0.4275    0.3943    0.3386       200\n",
            "weighted avg     0.4379    0.3800    0.3364       200\n",
            "\n",
            "----------------------------------------------------------------------------------------------------\n",
            "For fold no: 2\n",
            "----------------------------------------------------------------------------------------------------\n"
          ]
        },
        {
          "output_type": "stream",
          "name": "stderr",
          "text": [
            "/usr/local/lib/python3.7/dist-packages/sklearn/metrics/_classification.py:1272: UndefinedMetricWarning: Precision and F-score are ill-defined and being set to 0.0 in labels with no predicted samples. Use `zero_division` parameter to control this behavior.\n",
            "  _warn_prf(average, modifier, msg_start, len(result))\n"
          ]
        },
        {
          "output_type": "stream",
          "name": "stdout",
          "text": [
            "Accuracy on training data: 38.75%\n",
            "Testing Accuracy Score: 39.5\n",
            "Validation Accuracy Score: 29.375\n",
            "Confusion Matrix : \n",
            "[[ 2  6  0  0  0  9  0  2  1  1]\n",
            " [ 0 17  0  0  0  3  1  0  1  0]\n",
            " [ 0 10  1  1  0  5  0  0  1  1]\n",
            " [ 0  2  0  7  4  3  0  0  0  0]\n",
            " [ 0  2  1  3  4 12  0  0  0  0]\n",
            " [ 1  3  0  0  0 18  0  1  0  0]\n",
            " [ 0  3  0  0  0  9  4  1  0  1]\n",
            " [ 0  3  0  0  0  4  0 11  0  0]\n",
            " [ 0 10  0  0  0  6  0  0  6  0]\n",
            " [ 0  3  0  1  0  6  0  0  0  9]]\n",
            "Classification Report for 10-classes: \n",
            "              precision    recall  f1-score   support\n",
            "\n",
            "           1     0.6667    0.0952    0.1667        21\n",
            "           2     0.2881    0.7727    0.4198        22\n",
            "           3     0.5000    0.0526    0.0952        19\n",
            "           4     0.5833    0.4375    0.5000        16\n",
            "           5     0.5000    0.1818    0.2667        22\n",
            "           6     0.2400    0.7826    0.3673        23\n",
            "           7     0.8000    0.2222    0.3478        18\n",
            "           8     0.7333    0.6111    0.6667        18\n",
            "           9     0.6667    0.2727    0.3871        22\n",
            "          10     0.7500    0.4737    0.5806        19\n",
            "\n",
            "    accuracy                         0.3950       200\n",
            "   macro avg     0.5728    0.3902    0.3798       200\n",
            "weighted avg     0.5610    0.3950    0.3733       200\n",
            "\n",
            "----------------------------------------------------------------------------------------------------\n",
            "For fold no: 3\n",
            "----------------------------------------------------------------------------------------------------\n",
            "Accuracy on training data: 41.875%\n",
            "Testing Accuracy Score: 43.0\n",
            "Validation Accuracy Score: 34.375\n",
            "Confusion Matrix : \n",
            "[[12  1  7  0  1  0  0  3  0  4]\n",
            " [ 2  7  5  0  0  0  0  2  2  0]\n",
            " [ 1  0 19  0  0  0  0  0  1  0]\n",
            " [ 2  0 14  1  3  0  1  0  0  1]\n",
            " [ 3  0  5  0  7  0  1  0  0  0]\n",
            " [ 2  0  7  0  0  0  4  3  0  2]\n",
            " [ 4  1  3  0  0  0  8  4  0  0]\n",
            " [ 0  1  0  0  0  0  1 16  0  0]\n",
            " [ 2  1  8  0  0  0  0  1  6  0]\n",
            " [ 6  0  4  0  0  0  1  0  0 10]]\n",
            "Classification Report for 10-classes: \n",
            "              precision    recall  f1-score   support\n",
            "\n",
            "           1     0.3529    0.4286    0.3871        28\n",
            "           2     0.6364    0.3889    0.4828        18\n",
            "           3     0.2639    0.9048    0.4086        21\n",
            "           4     1.0000    0.0455    0.0870        22\n",
            "           5     0.6364    0.4375    0.5185        16\n",
            "           6     0.0000    0.0000    0.0000        18\n",
            "           7     0.5000    0.4000    0.4444        20\n",
            "           8     0.5517    0.8889    0.6809        18\n",
            "           9     0.6667    0.3333    0.4444        18\n",
            "          10     0.5882    0.4762    0.5263        21\n",
            "\n",
            "    accuracy                         0.4300       200\n",
            "   macro avg     0.5196    0.4304    0.3980       200\n",
            "weighted avg     0.5167    0.4300    0.3926       200\n",
            "\n",
            "----------------------------------------------------------------------------------------------------\n",
            "For fold no: 4\n",
            "----------------------------------------------------------------------------------------------------\n"
          ]
        },
        {
          "output_type": "stream",
          "name": "stderr",
          "text": [
            "/usr/local/lib/python3.7/dist-packages/sklearn/metrics/_classification.py:1272: UndefinedMetricWarning: Precision and F-score are ill-defined and being set to 0.0 in labels with no predicted samples. Use `zero_division` parameter to control this behavior.\n",
            "  _warn_prf(average, modifier, msg_start, len(result))\n"
          ]
        },
        {
          "output_type": "stream",
          "name": "stdout",
          "text": [
            "Accuracy on training data: 37.0%\n",
            "Testing Accuracy Score: 47.0\n",
            "Validation Accuracy Score: 28.125\n",
            "Confusion Matrix : \n",
            "[[ 3  0  0  5  0  0  1  0  1  1]\n",
            " [ 0 12  0 12  0  0  0  0  4  0]\n",
            " [ 0  1  1 17  0  0  0  0  1  0]\n",
            " [ 0  0  0 21  4  0  0  0  0  0]\n",
            " [ 1  0  0 13 10  1  1  0  0  0]\n",
            " [ 0  0  0 10  0  2  3  3  0  0]\n",
            " [ 0  0  0  4  0  0  5  0  0  1]\n",
            " [ 0  0  0  4  0  0  0 19  0  1]\n",
            " [ 1  1  0  6  0  0  0  1 10  0]\n",
            " [ 0  0  0  8  0  0  0  0  0 11]]\n",
            "Classification Report for 10-classes: \n",
            "              precision    recall  f1-score   support\n",
            "\n",
            "           1     0.6000    0.2727    0.3750        11\n",
            "           2     0.8571    0.4286    0.5714        28\n",
            "           3     1.0000    0.0500    0.0952        20\n",
            "           4     0.2100    0.8400    0.3360        25\n",
            "           5     0.7143    0.3846    0.5000        26\n",
            "           6     0.6667    0.1111    0.1905        18\n",
            "           7     0.5000    0.5000    0.5000        10\n",
            "           8     0.8261    0.7917    0.8085        24\n",
            "           9     0.6250    0.5263    0.5714        19\n",
            "          10     0.7857    0.5789    0.6667        19\n",
            "\n",
            "    accuracy                         0.4700       200\n",
            "   macro avg     0.6785    0.4484    0.4615       200\n",
            "weighted avg     0.6903    0.4700    0.4739       200\n",
            "\n",
            "----------------------------------------------------------------------------------------------------\n",
            "For fold no: 5\n",
            "----------------------------------------------------------------------------------------------------\n",
            "Accuracy on training data: 38.0%\n",
            "Testing Accuracy Score: 43.0\n",
            "Validation Accuracy Score: 34.375\n",
            "Confusion Matrix : \n",
            "[[ 3  3  0  0  8  0  4  1  0  2]\n",
            " [ 1 11  0  0  3  0  1  0  0  0]\n",
            " [ 0  5  2  0  8  0  1  0  0  0]\n",
            " [ 2  1  1  0 11  0  2  0  0  0]\n",
            " [ 0  0  0  0 23  0  1  0  0  0]\n",
            " [ 0  0  0  0  7  0  9  2  0  0]\n",
            " [ 0  0  0  0  3  0 18  4  0  1]\n",
            " [ 0  0  0  0  3  0  1 16  0  0]\n",
            " [ 0  5  1  0  9  0  0  1  4  0]\n",
            " [ 2  0  0  0  7  0  3  1  0  9]]\n",
            "Classification Report for 10-classes: \n",
            "              precision    recall  f1-score   support\n",
            "\n",
            "           1     0.3750    0.1429    0.2069        21\n",
            "           2     0.4400    0.6875    0.5366        16\n",
            "           3     0.5000    0.1250    0.2000        16\n",
            "           4     0.0000    0.0000    0.0000        17\n",
            "           5     0.2805    0.9583    0.4340        24\n",
            "           6     0.0000    0.0000    0.0000        18\n",
            "           7     0.4500    0.6923    0.5455        26\n",
            "           8     0.6400    0.8000    0.7111        20\n",
            "           9     1.0000    0.2000    0.3333        20\n",
            "          10     0.7500    0.4091    0.5294        22\n",
            "\n",
            "    accuracy                         0.4300       200\n",
            "   macro avg     0.4435    0.4015    0.3497       200\n",
            "weighted avg     0.4532    0.4300    0.3663       200\n",
            "\n",
            "----------------------------------------------------------------------------------------------------\n"
          ]
        },
        {
          "output_type": "stream",
          "name": "stderr",
          "text": [
            "/usr/local/lib/python3.7/dist-packages/sklearn/metrics/_classification.py:1272: UndefinedMetricWarning: Precision and F-score are ill-defined and being set to 0.0 in labels with no predicted samples. Use `zero_division` parameter to control this behavior.\n",
            "  _warn_prf(average, modifier, msg_start, len(result))\n"
          ]
        }
      ]
    },
    {
      "cell_type": "markdown",
      "metadata": {
        "id": "l5HL0Vz_nv1m"
      },
      "source": [
        "#Single Layer Perceptron"
      ]
    },
    {
      "cell_type": "code",
      "metadata": {
        "id": "YJhVT4Xtn08d"
      },
      "source": [
        "from sklearn.datasets import load_digits\n",
        "from sklearn.linear_model import Perceptron\n",
        "X, y = load_digits(return_X_y=True)\n",
        "\n"
      ],
      "execution_count": 20,
      "outputs": []
    },
    {
      "cell_type": "markdown",
      "metadata": {
        "id": "xy9Sl-yjZ2CK"
      },
      "source": [
        "#Overfitting for Single Layer Perceptron"
      ]
    },
    {
      "cell_type": "code",
      "metadata": {
        "colab": {
          "base_uri": "https://localhost:8080/"
        },
        "id": "ZcqI-xDiaMGZ",
        "outputId": "41925902-f647-4a53-f8b1-09c3cd75f18b"
      },
      "source": [
        "slp = Perceptron(tol=roh, random_state = 0)\n",
        "slp.fit(X_train, y_train)\n",
        "print(\"Accuracy on training data: \" + str(slp.score(X_train, y_train)*100) + \"%\")\n",
        "test_predicted = slp.predict(all_x_test[0])\n",
        "print(\"-\"*100)\n",
        "print(\"Testing Accuracy Score: \" + str(accuracy_score(all_y_test[0], test_predicted)*100))\n",
        "print(\"-\"*100)\n",
        "valid_predicted = slp.predict(X_validation)\n",
        "print(\"Validation Accuracy Score: \" + str(accuracy_score(y_validation, valid_predicted)*100))\n",
        "print(\"-\"*100)"
      ],
      "execution_count": 21,
      "outputs": [
        {
          "output_type": "stream",
          "name": "stdout",
          "text": [
            "Accuracy on training data: 32.34375%\n",
            "----------------------------------------------------------------------------------------------------\n",
            "Testing Accuracy Score: 24.5\n",
            "----------------------------------------------------------------------------------------------------\n",
            "Validation Accuracy Score: 25.624999999999996\n",
            "----------------------------------------------------------------------------------------------------\n"
          ]
        }
      ]
    },
    {
      "cell_type": "markdown",
      "metadata": {
        "id": "hj_zG-WicMWU"
      },
      "source": [
        "#SLP K-fold wise"
      ]
    },
    {
      "cell_type": "code",
      "metadata": {
        "colab": {
          "base_uri": "https://localhost:8080/"
        },
        "id": "ySPg0WKSoQoQ",
        "outputId": "0f106d54-a9e9-43d6-e4f9-591d69d55edf"
      },
      "source": [
        "for i in range(0, 5): # for 5 fold\n",
        "  print(\"For fold no:\", i+1)\n",
        "  print(\"-\"*100)\n",
        "  slp = Perceptron(tol=roh, random_state = 0)\n",
        "  slp.fit(all_x_train[0], all_y_train[0])\n",
        "  print(\"Accuracy on training data: \" + str(slp.score(all_x_train[i], all_y_train[i])*100) + \"%\")\n",
        "  predicted = slp.predict(all_x_test[i])\n",
        "  print(\"Testing Accuracy Score: \" + str(accuracy_score(all_y_test[i], predicted)*100))\n",
        "  valid_predicted = slp.predict(X_validation)\n",
        "  print(\"Validation Accuracy Score: \" + str(accuracy_score(y_validation, valid_predicted)*100))\n",
        "  print('Confusion Matrix : \\n' + str(confusion_matrix(all_y_test[i], predicted)))\n",
        "  print(\"Classification Report for 10-classes: \")\n",
        "  out_labels = [1, 2, 3, 4, 5, 6, 7, 8, 9, 10]\n",
        "  print(classification_report(all_y_test[i], predicted, out_labels, digits=5))\n",
        "  print(\"-\"*100)"
      ],
      "execution_count": 23,
      "outputs": [
        {
          "output_type": "stream",
          "name": "stdout",
          "text": [
            "For fold no: 1\n",
            "----------------------------------------------------------------------------------------------------\n",
            "Accuracy on training data: 26.75%\n",
            "Testing Accuracy Score: 19.5\n",
            "Validation Accuracy Score: 28.749999999999996\n",
            "Confusion Matrix : \n",
            "[[ 0  7  1  1  1  0  0  0  8  1]\n",
            " [ 0 15  0  0  0  0  0  0  1  0]\n",
            " [ 0 12  1  0  0  0  0  0 10  1]\n",
            " [ 0  5  0  2  8  0  0  0  5  0]\n",
            " [ 0  2  0  0  4  0  0  0  6  0]\n",
            " [ 0  6  0  1  5  0  4  0  7  0]\n",
            " [ 0 12  0  0  0  2  3  0  9  0]\n",
            " [ 0  7  0  0  0  0  0  0 12  1]\n",
            " [ 0 10  0  0  0  0  0  0 11  0]\n",
            " [ 0  9  0  0  0  1  0  0  6  3]]\n",
            "Classification Report for 10-classes: \n",
            "              precision    recall  f1-score   support\n",
            "\n",
            "           1    0.00000   0.00000   0.00000        19\n",
            "           2    0.17647   0.93750   0.29703        16\n",
            "           3    0.50000   0.04167   0.07692        24\n",
            "           4    0.50000   0.10000   0.16667        20\n",
            "           5    0.22222   0.33333   0.26667        12\n",
            "           6    0.00000   0.00000   0.00000        23\n",
            "           7    0.42857   0.11538   0.18182        26\n",
            "           8    0.00000   0.00000   0.00000        20\n",
            "           9    0.14667   0.52381   0.22917        21\n",
            "          10    0.50000   0.15789   0.24000        19\n",
            "\n",
            "    accuracy                        0.19500       200\n",
            "   macro avg    0.24739   0.22096   0.14583       200\n",
            "weighted avg    0.25607   0.19500   0.13616       200\n",
            "\n",
            "----------------------------------------------------------------------------------------------------\n",
            "For fold no: 2\n",
            "----------------------------------------------------------------------------------------------------\n"
          ]
        },
        {
          "output_type": "stream",
          "name": "stderr",
          "text": [
            "/usr/local/lib/python3.7/dist-packages/sklearn/metrics/_classification.py:1272: UndefinedMetricWarning: Precision and F-score are ill-defined and being set to 0.0 in labels with no predicted samples. Use `zero_division` parameter to control this behavior.\n",
            "  _warn_prf(average, modifier, msg_start, len(result))\n",
            "/usr/local/lib/python3.7/dist-packages/sklearn/metrics/_classification.py:1272: UndefinedMetricWarning: Precision and F-score are ill-defined and being set to 0.0 in labels with no predicted samples. Use `zero_division` parameter to control this behavior.\n",
            "  _warn_prf(average, modifier, msg_start, len(result))\n"
          ]
        },
        {
          "output_type": "stream",
          "name": "stdout",
          "text": [
            "Accuracy on training data: 24.625%\n",
            "Testing Accuracy Score: 28.000000000000004\n",
            "Validation Accuracy Score: 28.749999999999996\n",
            "Confusion Matrix : \n",
            "[[ 0  9  0  0  3  0  1  0  7  1]\n",
            " [ 0 19  0  0  0  0  0  0  3  0]\n",
            " [ 0 12  0  0  0  0  0  0  7  0]\n",
            " [ 0  5  0  4  3  0  0  0  4  0]\n",
            " [ 0  8  0  3  7  0  0  0  4  0]\n",
            " [ 0  9  0  0  2  3  3  0  6  0]\n",
            " [ 0  6  0  0  0  0  7  0  5  0]\n",
            " [ 0 12  0  0  0  0  1  0  5  0]\n",
            " [ 0 12  0  0  0  0  0  0 10  0]\n",
            " [ 0  9  0  0  0  0  0  0  4  6]]\n",
            "Classification Report for 10-classes: \n",
            "              precision    recall  f1-score   support\n",
            "\n",
            "           1    0.00000   0.00000   0.00000        21\n",
            "           2    0.18812   0.86364   0.30894        22\n",
            "           3    0.00000   0.00000   0.00000        19\n",
            "           4    0.57143   0.25000   0.34783        16\n",
            "           5    0.46667   0.31818   0.37838        22\n",
            "           6    1.00000   0.13043   0.23077        23\n",
            "           7    0.58333   0.38889   0.46667        18\n",
            "           8    0.00000   0.00000   0.00000        18\n",
            "           9    0.18182   0.45455   0.25974        22\n",
            "          10    0.85714   0.31579   0.46154        19\n",
            "\n",
            "    accuracy                        0.28000       200\n",
            "   macro avg    0.38485   0.27215   0.24539       200\n",
            "weighted avg    0.38667   0.28000   0.24439       200\n",
            "\n",
            "----------------------------------------------------------------------------------------------------\n",
            "For fold no: 3\n",
            "----------------------------------------------------------------------------------------------------\n",
            "Accuracy on training data: 25.5%\n",
            "Testing Accuracy Score: 24.5\n",
            "Validation Accuracy Score: 28.749999999999996\n",
            "Confusion Matrix : \n",
            "[[ 0 14  0  0  2  1  0  0 10  1]\n",
            " [ 0 15  0  0  0  0  0  0  3  0]\n",
            " [ 0 16  0  0  0  0  0  0  5  0]\n",
            " [ 0 11  0  3  2  0  0  0  6  0]\n",
            " [ 0  2  0  0  8  0  0  0  6  0]\n",
            " [ 0  9  0  0  0  1  2  0  6  0]\n",
            " [ 0 11  0  0  0  1  4  0  4  0]\n",
            " [ 0  7  0  0  0  0  0  0 11  0]\n",
            " [ 0  7  0  0  0  0  0  0 11  0]\n",
            " [ 0 10  0  0  0  0  0  0  4  7]]\n",
            "Classification Report for 10-classes: \n",
            "              precision    recall  f1-score   support\n",
            "\n",
            "           1    0.00000   0.00000   0.00000        28\n",
            "           2    0.14706   0.83333   0.25000        18\n",
            "           3    0.00000   0.00000   0.00000        21\n",
            "           4    1.00000   0.13636   0.24000        22\n",
            "           5    0.66667   0.50000   0.57143        16\n",
            "           6    0.33333   0.05556   0.09524        18\n",
            "           7    0.66667   0.20000   0.30769        20\n",
            "           8    0.00000   0.00000   0.00000        18\n",
            "           9    0.16667   0.61111   0.26190        18\n",
            "          10    0.87500   0.33333   0.48276        21\n",
            "\n",
            "    accuracy                        0.24500       200\n",
            "   macro avg    0.38554   0.26697   0.22090       200\n",
            "weighted avg    0.38011   0.24500   0.20822       200\n",
            "\n",
            "----------------------------------------------------------------------------------------------------\n",
            "For fold no: 4\n",
            "----------------------------------------------------------------------------------------------------\n"
          ]
        },
        {
          "output_type": "stream",
          "name": "stderr",
          "text": [
            "/usr/local/lib/python3.7/dist-packages/sklearn/metrics/_classification.py:1272: UndefinedMetricWarning: Precision and F-score are ill-defined and being set to 0.0 in labels with no predicted samples. Use `zero_division` parameter to control this behavior.\n",
            "  _warn_prf(average, modifier, msg_start, len(result))\n",
            "/usr/local/lib/python3.7/dist-packages/sklearn/metrics/_classification.py:1272: UndefinedMetricWarning: Precision and F-score are ill-defined and being set to 0.0 in labels with no predicted samples. Use `zero_division` parameter to control this behavior.\n",
            "  _warn_prf(average, modifier, msg_start, len(result))\n"
          ]
        },
        {
          "output_type": "stream",
          "name": "stdout",
          "text": [
            "Accuracy on training data: 24.25%\n",
            "Testing Accuracy Score: 29.5\n",
            "Validation Accuracy Score: 28.749999999999996\n",
            "Confusion Matrix : \n",
            "[[ 0  8  0  0  1  0  0  0  1  1]\n",
            " [ 0 24  0  0  0  0  0  0  4  0]\n",
            " [ 0 12  0  0  0  0  0  0  8  0]\n",
            " [ 0  8  0  1  8  0  0  0  8  0]\n",
            " [ 0  7  0  3  9  0  0  0  7  0]\n",
            " [ 0  6  0  1  0  2  2  0  7  0]\n",
            " [ 0  4  0  0  0  0  4  0  2  0]\n",
            " [ 0 14  0  0  0  0  0  0 10  0]\n",
            " [ 0  7  0  0  0  0  0  0 12  0]\n",
            " [ 0  9  0  0  0  0  0  0  3  7]]\n",
            "Classification Report for 10-classes: \n",
            "              precision    recall  f1-score   support\n",
            "\n",
            "           1    0.00000   0.00000   0.00000        11\n",
            "           2    0.24242   0.85714   0.37795        28\n",
            "           3    0.00000   0.00000   0.00000        20\n",
            "           4    0.20000   0.04000   0.06667        25\n",
            "           5    0.50000   0.34615   0.40909        26\n",
            "           6    1.00000   0.11111   0.20000        18\n",
            "           7    0.66667   0.40000   0.50000        10\n",
            "           8    0.00000   0.00000   0.00000        24\n",
            "           9    0.19355   0.63158   0.29630        19\n",
            "          10    0.87500   0.36842   0.51852        19\n",
            "\n",
            "    accuracy                        0.29500       200\n",
            "   macro avg    0.36776   0.27544   0.23685       200\n",
            "weighted avg    0.34878   0.29500   0.23484       200\n",
            "\n",
            "----------------------------------------------------------------------------------------------------\n",
            "For fold no: 5\n",
            "----------------------------------------------------------------------------------------------------\n",
            "Accuracy on training data: 25.374999999999996%\n",
            "Testing Accuracy Score: 25.0\n",
            "Validation Accuracy Score: 28.749999999999996\n",
            "Confusion Matrix : \n",
            "[[ 0  7  0  0  1  1  1  0  9  2]\n",
            " [ 0 15  0  0  0  0  0  0  1  0]\n",
            " [ 0 10  0  0  0  0  0  0  6  0]\n",
            " [ 0  7  0  0  2  0  0  0  8  0]\n",
            " [ 0  9  0  0  9  0  0  0  6  0]\n",
            " [ 0  5  0  1  2  3  3  0  4  0]\n",
            " [ 0 10  0  0  0  3  7  0  5  1]\n",
            " [ 0  6  0  0  0  0  2  0 12  0]\n",
            " [ 0 12  0  0  0  0  0  0  8  0]\n",
            " [ 0  9  0  0  0  0  1  0  4  8]]\n",
            "Classification Report for 10-classes: \n",
            "              precision    recall  f1-score   support\n",
            "\n",
            "           1    0.00000   0.00000   0.00000        21\n",
            "           2    0.16667   0.93750   0.28302        16\n",
            "           3    0.00000   0.00000   0.00000        16\n",
            "           4    0.00000   0.00000   0.00000        17\n",
            "           5    0.64286   0.37500   0.47368        24\n",
            "           6    0.42857   0.16667   0.24000        18\n",
            "           7    0.50000   0.26923   0.35000        26\n",
            "           8    0.00000   0.00000   0.00000        20\n",
            "           9    0.12698   0.40000   0.19277        20\n",
            "          10    0.72727   0.36364   0.48485        22\n",
            "\n",
            "    accuracy                        0.25000       200\n",
            "   macro avg    0.25924   0.25120   0.20243       200\n",
            "weighted avg    0.28675   0.25000   0.21919       200\n",
            "\n",
            "----------------------------------------------------------------------------------------------------\n"
          ]
        },
        {
          "output_type": "stream",
          "name": "stderr",
          "text": [
            "/usr/local/lib/python3.7/dist-packages/sklearn/metrics/_classification.py:1272: UndefinedMetricWarning: Precision and F-score are ill-defined and being set to 0.0 in labels with no predicted samples. Use `zero_division` parameter to control this behavior.\n",
            "  _warn_prf(average, modifier, msg_start, len(result))\n"
          ]
        }
      ]
    },
    {
      "cell_type": "markdown",
      "metadata": {
        "id": "EXh86TA1pxkL"
      },
      "source": [
        "#Sigmoid Neuron"
      ]
    },
    {
      "cell_type": "code",
      "metadata": {
        "id": "uJlvTGOwp1Gf"
      },
      "source": [
        "import numpy as np\n",
        "import matplotlib.pyplot as plt\n",
        "# it's slp\n",
        "class SigmoidNeuron:\n",
        "    def __init__(self, epoch = 10, roh=1e-3):\n",
        "        self.epoch = epoch\n",
        "        self.roh = roh\n",
        "\n",
        "    def predict(self, X):\n",
        "        return self.predict_(self.add_bias(X))\n",
        "    \n",
        "    def predict_(self, X):\n",
        "        pre_vals = np.dot(X, self.weights.T).reshape(-1,len(self.classes))\n",
        "        return self.softmax(pre_vals)\n",
        "    \n",
        "    def softmax(self, z):\n",
        "        return np.exp(z) / np.sum(np.exp(z), axis=1).reshape(-1,1)\n",
        "\n",
        "    def predict_classes(self, X):\n",
        "        self.probs_ = self.predict(X)\n",
        "        return np.vectorize(lambda c: self.classes[c])(np.argmax(self.probs_, axis=1))\n",
        "  \n",
        "    def add_bias(self, X):\n",
        "        return np.insert(X, 0, 1, axis=1)\n",
        "\n",
        "    def one_hot(self, y):\n",
        "        return np.eye(len(self.classes))[np.vectorize(lambda c: self.class_labels[c])(y).reshape(-1)]\n",
        "    \n",
        "    def score(self, X, y):\n",
        "        return np.mean(self.predict_classes(X) == y)\n",
        "    \n",
        "    def evaluate_(self, X, y):\n",
        "        return np.mean(np.argmax(self.predict_(X), axis=1) == np.argmax(y, axis=1))\n",
        "\n",
        "    def logloss(self, y, probs):\n",
        "        return np.mean(-y*np.log(probs) - (1-y)*np.log(1-probs))\n",
        "\n",
        "    def cross_entropy(self, y, probs):\n",
        "        return -1 * np.mean(y * np.log(probs))\n",
        "\n",
        "    def mse(self, y, probs):\n",
        "        return (((y - probs)**2).mean())/2\n",
        "        \n",
        "    def fit(self, X, y, lr=0.1, rand_seed=4, verbose=False):\n",
        "        np.random.seed(rand_seed) \n",
        "        self.classes = np.unique(y)\n",
        "        self.class_labels = {c:i for i,c in enumerate(self.classes)}\n",
        "        X = self.add_bias(X)\n",
        "        y = self.one_hot(y)\n",
        "        self.loss = []\n",
        "        self.weights = np.zeros(shape=(len(self.classes),X.shape[1]))*0.1\n",
        "        self.fit_data(X, y, lr, verbose)\n",
        "        return self\n",
        " \n",
        "    def fit_data(self, X, y, lr, verbose):\n",
        "        i = 0\n",
        "        xt, yt = all_x_test[0], all_y_test[0]\n",
        "        xtr, ytr = all_x_train[0], all_y_train[0]\n",
        "        while (not self.epoch or i < self.epoch):\n",
        "            self.loss.append(self.mse(y, self.predict_(X)))\n",
        "            error = y - self.predict_(X)\n",
        "            update = (lr * np.dot(error.T, X))\n",
        "            self.weights += update\n",
        "            if np.abs(update).max() < self.roh: break\n",
        "            i +=1"
      ],
      "execution_count": 24,
      "outputs": []
    },
    {
      "cell_type": "code",
      "metadata": {
        "colab": {
          "base_uri": "https://localhost:8080/"
        },
        "id": "UZvsorwOBO0f",
        "outputId": "f00a645a-c3f3-4c5c-d85c-f9bc35359295"
      },
      "source": [
        "for i in range(0, 5): # for 5 fold\n",
        "  print(\"For fold no:\", i+1)\n",
        "  print(\"-\"*100)\n",
        "  sgn = SigmoidNeuron(roh=1e-5)\n",
        "  sgn.fit(all_x_train[0], all_y_train[0], lr=0.01)\n",
        "  print(\"Accuracy on training data: \" + str(sgn.score(all_x_train[i], all_y_train[i])*100) + \"%\")\n",
        "  predicted = sgn.predict_classes(all_x_test[i])\n",
        "  print(\"Testing Accuracy Score: \" + str(accuracy_score(all_y_test[i], predicted)*100))\n",
        "  valid_predicted = sgn.predict_classes(X_validation)\n",
        "  print(\"Validation Accuracy Score: \" + str(accuracy_score(y_validation, valid_predicted)*100))\n",
        "  print('Confusion Matrix : \\n' + str(confusion_matrix(all_y_test[i], predicted)))\n",
        "  print(\"Classification Report for 10-classes: \")\n",
        "  out_labels = [1,2, 3, 4, 5, 6, 7, 8, 9, 10]\n",
        "  print(classification_report(all_y_test[i], predicted, out_labels, digits=5))\n",
        "  print(\"-\"*100)"
      ],
      "execution_count": 27,
      "outputs": [
        {
          "output_type": "stream",
          "name": "stdout",
          "text": [
            "For fold no: 1\n",
            "----------------------------------------------------------------------------------------------------\n",
            "Accuracy on training data: 19.625%\n",
            "Testing Accuracy Score: 15.5\n",
            "Validation Accuracy Score: 20.625\n",
            "Confusion Matrix : \n",
            "[[ 0 12  0  0  4  0  0  0  0  3]\n",
            " [ 0 16  0  0  0  0  0  0  0  0]\n",
            " [ 0 18  0  0  2  0  0  0  0  4]\n",
            " [ 0 10  0  0 10  0  0  0  0  0]\n",
            " [ 0  6  0  0  6  0  0  0  0  0]\n",
            " [ 0 10  0  0  8  0  2  0  0  3]\n",
            " [ 0 16  0  0  3  0  3  0  0  4]\n",
            " [ 0 17  0  0  1  0  0  0  0  2]\n",
            " [ 0 20  0  0  1  0  0  0  0  0]\n",
            " [ 0 12  0  0  1  0  0  0  0  6]]\n",
            "Classification Report for 10-classes: \n",
            "              precision    recall  f1-score   support\n",
            "\n",
            "           1    0.00000   0.00000   0.00000        19\n",
            "           2    0.11679   1.00000   0.20915        16\n",
            "           3    0.00000   0.00000   0.00000        24\n",
            "           4    0.00000   0.00000   0.00000        20\n",
            "           5    0.16667   0.50000   0.25000        12\n",
            "           6    0.00000   0.00000   0.00000        23\n",
            "           7    0.60000   0.11538   0.19355        26\n",
            "           8    0.00000   0.00000   0.00000        20\n",
            "           9    0.00000   0.00000   0.00000        21\n",
            "          10    0.27273   0.31579   0.29268        19\n",
            "\n",
            "    accuracy                        0.15500       200\n",
            "   macro avg    0.11562   0.19312   0.09454       200\n",
            "weighted avg    0.12325   0.15500   0.08470       200\n",
            "\n",
            "----------------------------------------------------------------------------------------------------\n",
            "For fold no: 2\n",
            "----------------------------------------------------------------------------------------------------\n",
            "Accuracy on training data: 18.875%\n",
            "Testing Accuracy Score: 18.5\n",
            "Validation Accuracy Score: 20.625\n",
            "Confusion Matrix : \n",
            "[[ 0 14  0  0  6  0  0  0  0  1]\n",
            " [ 0 22  0  0  0  0  0  0  0  0]\n",
            " [ 0 17  0  0  2  0  0  0  0  0]\n",
            " [ 0  8  0  0  7  0  0  0  0  1]\n",
            " [ 0 11  0  0 11  0  0  0  0  0]\n",
            " [ 0 12  0  0  4  0  3  0  0  4]\n",
            " [ 0  8  0  0  1  0  3  0  0  6]\n",
            " [ 0 17  0  0  0  0  0  0  0  1]\n",
            " [ 0 20  0  0  2  0  0  0  0  0]\n",
            " [ 0 15  0  0  3  0  0  0  0  1]]\n",
            "Classification Report for 10-classes: \n",
            "              precision    recall  f1-score   support\n",
            "\n",
            "           1    0.00000   0.00000   0.00000        21\n",
            "           2    0.15278   1.00000   0.26506        22\n",
            "           3    0.00000   0.00000   0.00000        19\n",
            "           4    0.00000   0.00000   0.00000        16\n",
            "           5    0.30556   0.50000   0.37931        22\n",
            "           6    0.00000   0.00000   0.00000        23\n",
            "           7    0.50000   0.16667   0.25000        18\n",
            "           8    0.00000   0.00000   0.00000        18\n",
            "           9    0.00000   0.00000   0.00000        22\n",
            "          10    0.07143   0.05263   0.06061        19\n",
            "\n",
            "    accuracy                        0.18500       200\n",
            "   macro avg    0.10298   0.17193   0.09550       200\n",
            "weighted avg    0.10220   0.18500   0.09914       200\n",
            "\n",
            "----------------------------------------------------------------------------------------------------\n",
            "For fold no: 3\n",
            "----------------------------------------------------------------------------------------------------\n",
            "Accuracy on training data: 18.875%\n",
            "Testing Accuracy Score: 18.5\n",
            "Validation Accuracy Score: 20.625\n",
            "Confusion Matrix : \n",
            "[[ 0 19  0  0  6  0  0  0  0  3]\n",
            " [ 0 18  0  0  0  0  0  0  0  0]\n",
            " [ 0 21  0  0  0  0  0  0  0  0]\n",
            " [ 0 16  0  0  5  0  0  0  0  1]\n",
            " [ 0  6  0  0 10  0  0  0  0  0]\n",
            " [ 0 14  0  0  1  0  0  0  0  3]\n",
            " [ 0 10  0  0  2  0  2  0  0  6]\n",
            " [ 0 18  0  0  0  0  0  0  0  0]\n",
            " [ 0 16  0  0  2  0  0  0  0  0]\n",
            " [ 0 14  0  0  0  0  0  0  0  7]]\n",
            "Classification Report for 10-classes: \n"
          ]
        },
        {
          "output_type": "stream",
          "name": "stderr",
          "text": [
            "/usr/local/lib/python3.7/dist-packages/sklearn/metrics/_classification.py:1272: UndefinedMetricWarning: Precision and F-score are ill-defined and being set to 0.0 in labels with no predicted samples. Use `zero_division` parameter to control this behavior.\n",
            "  _warn_prf(average, modifier, msg_start, len(result))\n"
          ]
        },
        {
          "output_type": "stream",
          "name": "stdout",
          "text": [
            "              precision    recall  f1-score   support\n",
            "\n",
            "           1    0.00000   0.00000   0.00000        28\n",
            "           2    0.11842   1.00000   0.21176        18\n",
            "           3    0.00000   0.00000   0.00000        21\n",
            "           4    0.00000   0.00000   0.00000        22\n",
            "           5    0.38462   0.62500   0.47619        16\n",
            "           6    0.00000   0.00000   0.00000        18\n",
            "           7    1.00000   0.10000   0.18182        20\n",
            "           8    0.00000   0.00000   0.00000        18\n",
            "           9    0.00000   0.00000   0.00000        18\n",
            "          10    0.35000   0.33333   0.34146        21\n",
            "\n",
            "    accuracy                        0.18500       200\n",
            "   macro avg    0.18530   0.20583   0.12112       200\n",
            "weighted avg    0.17818   0.18500   0.11119       200\n",
            "\n",
            "----------------------------------------------------------------------------------------------------\n",
            "For fold no: 4\n",
            "----------------------------------------------------------------------------------------------------\n",
            "Accuracy on training data: 17.875%\n",
            "Testing Accuracy Score: 22.5\n",
            "Validation Accuracy Score: 20.625\n",
            "Confusion Matrix : \n",
            "[[ 0  7  0  0  3  0  0  0  0  1]\n",
            " [ 0 28  0  0  0  0  0  0  0  0]\n",
            " [ 0 19  0  0  1  0  0  0  0  0]\n",
            " [ 0 13  0  0 12  0  0  0  0  0]\n",
            " [ 0 12  0  0 14  0  0  0  0  0]\n",
            " [ 0  9  0  0  4  0  3  0  0  2]\n",
            " [ 0  5  0  0  1  0  0  0  0  4]\n",
            " [ 0 22  0  0  0  0  0  0  0  2]\n",
            " [ 0 17  0  0  1  1  0  0  0  0]\n",
            " [ 0 15  0  0  1  0  0  0  0  3]]\n",
            "Classification Report for 10-classes: \n",
            "              precision    recall  f1-score   support\n",
            "\n",
            "           1    0.00000   0.00000   0.00000        11\n",
            "           2    0.19048   1.00000   0.32000        28\n",
            "           3    0.00000   0.00000   0.00000        20\n",
            "           4    0.00000   0.00000   0.00000        25\n",
            "           5    0.37838   0.53846   0.44444        26\n",
            "           6    0.00000   0.00000   0.00000        18\n",
            "           7    0.00000   0.00000   0.00000        10\n",
            "           8    0.00000   0.00000   0.00000        24\n",
            "           9    0.00000   0.00000   0.00000        19\n",
            "          10    0.25000   0.15789   0.19355        19\n",
            "\n",
            "    accuracy                        0.22500       200\n",
            "   macro avg    0.08189   0.16964   0.09580       200\n",
            "weighted avg    0.09961   0.22500   0.12096       200\n",
            "\n",
            "----------------------------------------------------------------------------------------------------\n",
            "For fold no: 5\n",
            "----------------------------------------------------------------------------------------------------\n",
            "Accuracy on training data: 18.75%\n",
            "Testing Accuracy Score: 19.0\n",
            "Validation Accuracy Score: 20.625\n",
            "Confusion Matrix : \n",
            "[[ 0 15  0  0  3  0  1  0  0  2]\n",
            " [ 0 16  0  0  0  0  0  0  0  0]\n",
            " [ 0 14  0  0  1  0  0  0  0  1]\n",
            " [ 0 14  0  0  3  0  0  0  0  0]\n",
            " [ 0 12  0  0 12  0  0  0  0  0]\n",
            " [ 0  9  0  0  3  0  1  0  0  5]\n",
            " [ 0 15  0  0  0  0  3  0  0  8]\n",
            " [ 0 17  0  0  1  0  0  0  0  2]\n",
            " [ 0 19  0  0  1  0  0  0  0  0]\n",
            " [ 0 13  0  0  2  0  0  0  0  7]]\n",
            "Classification Report for 10-classes: \n",
            "              precision    recall  f1-score   support\n",
            "\n",
            "           1    0.00000   0.00000   0.00000        21\n",
            "           2    0.11111   1.00000   0.20000        16\n",
            "           3    0.00000   0.00000   0.00000        16\n",
            "           4    0.00000   0.00000   0.00000        17\n",
            "           5    0.46154   0.50000   0.48000        24\n",
            "           6    0.00000   0.00000   0.00000        18\n",
            "           7    0.60000   0.11538   0.19355        26\n",
            "           8    0.00000   0.00000   0.00000        20\n",
            "           9    0.00000   0.00000   0.00000        20\n",
            "          10    0.28000   0.31818   0.29787        22\n",
            "\n",
            "    accuracy                        0.19000       200\n",
            "   macro avg    0.14526   0.19336   0.11714       200\n",
            "weighted avg    0.17307   0.19000   0.13153       200\n",
            "\n",
            "----------------------------------------------------------------------------------------------------\n"
          ]
        }
      ]
    },
    {
      "cell_type": "markdown",
      "metadata": {
        "id": "ePTNoJ15p2QM"
      },
      "source": [
        "#Multilayer Perceptron"
      ]
    },
    {
      "cell_type": "code",
      "metadata": {
        "id": "QGTZcYRDp9i0"
      },
      "source": [
        "from sklearn.neural_network import MLPClassifier"
      ],
      "execution_count": null,
      "outputs": []
    },
    {
      "cell_type": "markdown",
      "metadata": {
        "id": "iXVmiq4Vbz2P"
      },
      "source": [
        "#Overfitting for Multilayer Perceptron"
      ]
    },
    {
      "cell_type": "code",
      "metadata": {
        "colab": {
          "base_uri": "https://localhost:8080/"
        },
        "id": "f0ZDgLoAb8HC",
        "outputId": "f384fb82-c4bf-4d45-d864-c749f660d5e6"
      },
      "source": [
        "mlp = mlp = MLPClassifier(hidden_layer_sizes=(258), activation='logistic',solver='sgd', random_state=1, max_iter=1000).fit(all_x_train[0], all_y_train[0])\n",
        "mlp.fit(X_train, y_train)\n",
        "print(\"Accuracy on training data: \" + str(mlp.score(X_train, y_train)*100) + \"%\")\n",
        "test_predicted = mlp.predict(all_x_test[0])\n",
        "print(\"-\"*100)\n",
        "print(\"Testing Accuracy Score: \" + str(accuracy_score(all_y_test[0], test_predicted)*100))\n",
        "print(\"-\"*100)\n",
        "valid_predicted = mlp.predict(X_validation)\n",
        "print(\"Validation Accuracy Score: \" + str(accuracy_score(y_validation, valid_predicted)*100))\n",
        "print(\"-\"*100)"
      ],
      "execution_count": null,
      "outputs": [
        {
          "output_type": "stream",
          "name": "stdout",
          "text": [
            "Accuracy on training data: 10.9375%\n",
            "----------------------------------------------------------------------------------------------------\n",
            "Testing Accuracy Score: 10.0\n",
            "----------------------------------------------------------------------------------------------------\n",
            "Validation Accuracy Score: 6.25\n",
            "----------------------------------------------------------------------------------------------------\n"
          ]
        }
      ]
    },
    {
      "cell_type": "code",
      "metadata": {
        "colab": {
          "base_uri": "https://localhost:8080/"
        },
        "id": "RTBZOzpNqHJF",
        "outputId": "8b9a5b0a-204f-490f-9ec1-a3873653576b"
      },
      "source": [
        "for i in range(0, 5): # for 5 fold\n",
        "  print(\"For fold no:\", i+1)\n",
        "  print(\"-\"*100)\n",
        "  mlp = MLPClassifier(hidden_layer_sizes=(258), activation='logistic',solver='sgd', random_state=1, max_iter=1000).fit(all_x_train[0], all_y_train[0])\n",
        "  mlp.predict(all_x_train[0])\n",
        "  print(\"Accuracy on training data: \" + str(mlp.score(all_x_train[i], all_y_train[i])*100) + \"%\")\n",
        "  predicted = mlp.predict(all_x_test[i])\n",
        "  print(\"Testing Accuracy Score: \" + str(accuracy_score(all_y_test[i], predicted)*100))\n",
        "  valid_predicted = mlp.predict(X_validation)\n",
        "  print(\"Validation Accuracy Score: \" + str(accuracy_score(y_validation, valid_predicted)*100))\n",
        "  print('Confusion Matrix : \\n' + str(confusion_matrix(all_y_test[i], predicted)))\n",
        "  print(\"Classification Report for 10-classes: \")\n",
        "  out_labels = [1,2,3,4,5,6, 7, 8, 9, 10]\n",
        "  print(classification_report(all_y_test[i], predicted, out_labels, digits=5))\n",
        "  print(\"-\"*100)"
      ],
      "execution_count": null,
      "outputs": [
        {
          "output_type": "stream",
          "name": "stdout",
          "text": [
            "For fold no: 1\n",
            "----------------------------------------------------------------------------------------------------\n",
            "Accuracy on training data: 11.0%\n",
            "Testing Accuracy Score: 6.0\n",
            "Validation Accuracy Score: 9.375\n",
            "Confusion Matrix : \n",
            "[[12  0  0  0  0  0  0  0  0  0]\n",
            " [23  0  0  0  0  0  0  0  0  0]\n",
            " [27  0  0  0  0  0  0  0  0  0]\n",
            " [21  0  0  0  0  0  0  0  0  0]\n",
            " [15  0  0  0  0  0  0  0  0  0]\n",
            " [23  0  0  0  0  0  0  0  0  0]\n",
            " [20  0  0  0  0  0  0  0  0  0]\n",
            " [19  0  0  0  0  0  0  0  0  0]\n",
            " [21  0  0  0  0  0  0  0  0  0]\n",
            " [19  0  0  0  0  0  0  0  0  0]]\n",
            "Classification Report for 10-classes: \n",
            "              precision    recall  f1-score   support\n",
            "\n",
            "           1    0.06000   1.00000   0.11321        12\n",
            "           2    0.00000   0.00000   0.00000        23\n",
            "           3    0.00000   0.00000   0.00000        27\n",
            "           4    0.00000   0.00000   0.00000        21\n",
            "           5    0.00000   0.00000   0.00000        15\n",
            "           6    0.00000   0.00000   0.00000        23\n",
            "           7    0.00000   0.00000   0.00000        20\n",
            "           8    0.00000   0.00000   0.00000        19\n",
            "           9    0.00000   0.00000   0.00000        21\n",
            "          10    0.00000   0.00000   0.00000        19\n",
            "\n",
            "    accuracy                        0.06000       200\n",
            "   macro avg    0.00600   0.10000   0.01132       200\n",
            "weighted avg    0.00360   0.06000   0.00679       200\n",
            "\n",
            "----------------------------------------------------------------------------------------------------\n",
            "For fold no: 2\n",
            "----------------------------------------------------------------------------------------------------\n"
          ]
        },
        {
          "output_type": "stream",
          "name": "stderr",
          "text": [
            "/usr/local/lib/python3.7/dist-packages/sklearn/metrics/_classification.py:1272: UndefinedMetricWarning: Precision and F-score are ill-defined and being set to 0.0 in labels with no predicted samples. Use `zero_division` parameter to control this behavior.\n",
            "  _warn_prf(average, modifier, msg_start, len(result))\n"
          ]
        },
        {
          "output_type": "stream",
          "name": "stdout",
          "text": [
            "Accuracy on training data: 9.625%\n",
            "Testing Accuracy Score: 11.5\n",
            "Validation Accuracy Score: 9.375\n",
            "Confusion Matrix : \n",
            "[[23  0  0  0  0  0  0  0  0  0]\n",
            " [23  0  0  0  0  0  0  0  0  0]\n",
            " [22  0  0  0  0  0  0  0  0  0]\n",
            " [19  0  0  0  0  0  0  0  0  0]\n",
            " [20  0  0  0  0  0  0  0  0  0]\n",
            " [16  0  0  0  0  0  0  0  0  0]\n",
            " [18  0  0  0  0  0  0  0  0  0]\n",
            " [19  0  0  0  0  0  0  0  0  0]\n",
            " [19  0  0  0  0  0  0  0  0  0]\n",
            " [21  0  0  0  0  0  0  0  0  0]]\n",
            "Classification Report for 10-classes: \n",
            "              precision    recall  f1-score   support\n",
            "\n",
            "           1    0.11500   1.00000   0.20628        23\n",
            "           2    0.00000   0.00000   0.00000        23\n",
            "           3    0.00000   0.00000   0.00000        22\n",
            "           4    0.00000   0.00000   0.00000        19\n",
            "           5    0.00000   0.00000   0.00000        20\n",
            "           6    0.00000   0.00000   0.00000        16\n",
            "           7    0.00000   0.00000   0.00000        18\n",
            "           8    0.00000   0.00000   0.00000        19\n",
            "           9    0.00000   0.00000   0.00000        19\n",
            "          10    0.00000   0.00000   0.00000        21\n",
            "\n",
            "    accuracy                        0.11500       200\n",
            "   macro avg    0.01150   0.10000   0.02063       200\n",
            "weighted avg    0.01323   0.11500   0.02372       200\n",
            "\n",
            "----------------------------------------------------------------------------------------------------\n",
            "For fold no: 3\n",
            "----------------------------------------------------------------------------------------------------\n"
          ]
        },
        {
          "output_type": "stream",
          "name": "stderr",
          "text": [
            "/usr/local/lib/python3.7/dist-packages/sklearn/metrics/_classification.py:1272: UndefinedMetricWarning: Precision and F-score are ill-defined and being set to 0.0 in labels with no predicted samples. Use `zero_division` parameter to control this behavior.\n",
            "  _warn_prf(average, modifier, msg_start, len(result))\n"
          ]
        },
        {
          "output_type": "stream",
          "name": "stdout",
          "text": [
            "Accuracy on training data: 9.75%\n",
            "Testing Accuracy Score: 11.0\n",
            "Validation Accuracy Score: 9.375\n",
            "Confusion Matrix : \n",
            "[[22  0  0  0  0  0  0  0  0  0]\n",
            " [23  0  0  0  0  0  0  0  0  0]\n",
            " [16  0  0  0  0  0  0  0  0  0]\n",
            " [18  0  0  0  0  0  0  0  0  0]\n",
            " [24  0  0  0  0  0  0  0  0  0]\n",
            " [22  0  0  0  0  0  0  0  0  0]\n",
            " [11  0  0  0  0  0  0  0  0  0]\n",
            " [20  0  0  0  0  0  0  0  0  0]\n",
            " [26  0  0  0  0  0  0  0  0  0]\n",
            " [18  0  0  0  0  0  0  0  0  0]]\n",
            "Classification Report for 10-classes: \n",
            "              precision    recall  f1-score   support\n",
            "\n",
            "           1    0.11000   1.00000   0.19820        22\n",
            "           2    0.00000   0.00000   0.00000        23\n",
            "           3    0.00000   0.00000   0.00000        16\n",
            "           4    0.00000   0.00000   0.00000        18\n",
            "           5    0.00000   0.00000   0.00000        24\n",
            "           6    0.00000   0.00000   0.00000        22\n",
            "           7    0.00000   0.00000   0.00000        11\n",
            "           8    0.00000   0.00000   0.00000        20\n",
            "           9    0.00000   0.00000   0.00000        26\n",
            "          10    0.00000   0.00000   0.00000        18\n",
            "\n",
            "    accuracy                        0.11000       200\n",
            "   macro avg    0.01100   0.10000   0.01982       200\n",
            "weighted avg    0.01210   0.11000   0.02180       200\n",
            "\n",
            "----------------------------------------------------------------------------------------------------\n",
            "For fold no: 4\n",
            "----------------------------------------------------------------------------------------------------\n"
          ]
        },
        {
          "output_type": "stream",
          "name": "stderr",
          "text": [
            "/usr/local/lib/python3.7/dist-packages/sklearn/metrics/_classification.py:1272: UndefinedMetricWarning: Precision and F-score are ill-defined and being set to 0.0 in labels with no predicted samples. Use `zero_division` parameter to control this behavior.\n",
            "  _warn_prf(average, modifier, msg_start, len(result))\n"
          ]
        },
        {
          "output_type": "stream",
          "name": "stdout",
          "text": [
            "Accuracy on training data: 9.25%\n",
            "Testing Accuracy Score: 13.0\n",
            "Validation Accuracy Score: 9.375\n",
            "Confusion Matrix : \n",
            "[[26  0  0  0  0  0  0  0  0  0]\n",
            " [18  0  0  0  0  0  0  0  0  0]\n",
            " [15  0  0  0  0  0  0  0  0  0]\n",
            " [17  0  0  0  0  0  0  0  0  0]\n",
            " [24  0  0  0  0  0  0  0  0  0]\n",
            " [18  0  0  0  0  0  0  0  0  0]\n",
            " [28  0  0  0  0  0  0  0  0  0]\n",
            " [15  0  0  0  0  0  0  0  0  0]\n",
            " [14  0  0  0  0  0  0  0  0  0]\n",
            " [25  0  0  0  0  0  0  0  0  0]]\n",
            "Classification Report for 10-classes: \n",
            "              precision    recall  f1-score   support\n",
            "\n",
            "           1    0.13000   1.00000   0.23009        26\n",
            "           2    0.00000   0.00000   0.00000        18\n",
            "           3    0.00000   0.00000   0.00000        15\n",
            "           4    0.00000   0.00000   0.00000        17\n",
            "           5    0.00000   0.00000   0.00000        24\n",
            "           6    0.00000   0.00000   0.00000        18\n",
            "           7    0.00000   0.00000   0.00000        28\n",
            "           8    0.00000   0.00000   0.00000        15\n",
            "           9    0.00000   0.00000   0.00000        14\n",
            "          10    0.00000   0.00000   0.00000        25\n",
            "\n",
            "    accuracy                        0.13000       200\n",
            "   macro avg    0.01300   0.10000   0.02301       200\n",
            "weighted avg    0.01690   0.13000   0.02991       200\n",
            "\n",
            "----------------------------------------------------------------------------------------------------\n",
            "For fold no: 5\n",
            "----------------------------------------------------------------------------------------------------\n"
          ]
        },
        {
          "output_type": "stream",
          "name": "stderr",
          "text": [
            "/usr/local/lib/python3.7/dist-packages/sklearn/metrics/_classification.py:1272: UndefinedMetricWarning: Precision and F-score are ill-defined and being set to 0.0 in labels with no predicted samples. Use `zero_division` parameter to control this behavior.\n",
            "  _warn_prf(average, modifier, msg_start, len(result))\n"
          ]
        },
        {
          "output_type": "stream",
          "name": "stdout",
          "text": [
            "Accuracy on training data: 10.375%\n",
            "Testing Accuracy Score: 8.5\n",
            "Validation Accuracy Score: 9.375\n",
            "Confusion Matrix : \n",
            "[[17  0  0  0  0  0  0  0  0  0]\n",
            " [13  0  0  0  0  0  0  0  0  0]\n",
            " [20  0  0  0  0  0  0  0  0  0]\n",
            " [25  0  0  0  0  0  0  0  0  0]\n",
            " [17  0  0  0  0  0  0  0  0  0]\n",
            " [21  0  0  0  0  0  0  0  0  0]\n",
            " [23  0  0  0  0  0  0  0  0  0]\n",
            " [27  0  0  0  0  0  0  0  0  0]\n",
            " [20  0  0  0  0  0  0  0  0  0]\n",
            " [17  0  0  0  0  0  0  0  0  0]]\n",
            "Classification Report for 10-classes: \n",
            "              precision    recall  f1-score   support\n",
            "\n",
            "           1    0.08500   1.00000   0.15668        17\n",
            "           2    0.00000   0.00000   0.00000        13\n",
            "           3    0.00000   0.00000   0.00000        20\n",
            "           4    0.00000   0.00000   0.00000        25\n",
            "           5    0.00000   0.00000   0.00000        17\n",
            "           6    0.00000   0.00000   0.00000        21\n",
            "           7    0.00000   0.00000   0.00000        23\n",
            "           8    0.00000   0.00000   0.00000        27\n",
            "           9    0.00000   0.00000   0.00000        20\n",
            "          10    0.00000   0.00000   0.00000        17\n",
            "\n",
            "    accuracy                        0.08500       200\n",
            "   macro avg    0.00850   0.10000   0.01567       200\n",
            "weighted avg    0.00723   0.08500   0.01332       200\n",
            "\n",
            "----------------------------------------------------------------------------------------------------\n"
          ]
        },
        {
          "output_type": "stream",
          "name": "stderr",
          "text": [
            "/usr/local/lib/python3.7/dist-packages/sklearn/metrics/_classification.py:1272: UndefinedMetricWarning: Precision and F-score are ill-defined and being set to 0.0 in labels with no predicted samples. Use `zero_division` parameter to control this behavior.\n",
            "  _warn_prf(average, modifier, msg_start, len(result))\n"
          ]
        }
      ]
    }
  ]
}